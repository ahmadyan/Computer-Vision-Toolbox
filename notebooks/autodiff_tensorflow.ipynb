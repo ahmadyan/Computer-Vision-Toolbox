{
 "cells": [
  {
   "cell_type": "code",
   "execution_count": 1,
   "metadata": {},
   "outputs": [],
   "source": [
    "import tensorflow as tf\n",
    "import numpy as np"
   ]
  },
  {
   "cell_type": "markdown",
   "metadata": {},
   "source": [
    "# Example: Rosenbrock Function"
   ]
  },
  {
   "cell_type": "code",
   "execution_count": null,
   "metadata": {},
   "outputs": [],
   "source": [
    "x1 = tf.Variable(initial_value=tf.random_uniform([1], -3, 3),name='x1')\n",
    "x2 = tf.Variable(initial_value=tf.random_uniform([1], -3, 3), name='x2')\n",
    "\n",
    "# Rosenbrock function y = (1 - x1)^2 + 100 * (x2 - x1^2)^2\n",
    "y = tf.add(tf.pow(tf.subtract(1.0, x1), 2.0), \n",
    "           tf.multiply(100.0, tf.pow(tf.subtract(x2,tf.pow(x1, 2.0)), 2.0)), 'y')\n",
    "\n",
    "dx = tf.gradients(y, x1)[0]\n",
    "print(dx, x1, x2)"
   ]
  },
  {
   "cell_type": "code",
   "execution_count": null,
   "metadata": {},
   "outputs": [],
   "source": [
    "opt = tf.train.GradientDescentOptimizer(0.0001)\n",
    "train = opt.minimize(y)\n",
    "\n",
    "sess = tf.Session()\n",
    "\n",
    "init = tf.initialize_all_variables()\n",
    "sess.run(init)\n",
    "\n",
    "for step in range(200):\n",
    "    sess.run(train)\n",
    "    if step % 10 == 0:\n",
    "        print(step, sess.run(x1), sess.run(x2), sess.run(y))"
   ]
  },
  {
   "cell_type": "code",
   "execution_count": null,
   "metadata": {},
   "outputs": [],
   "source": [
    "grads_and_vars = opt.compute_gradients(y, [x1, x2])\n",
    "#train = opt.minimize(y)\n",
    "clipped_grads_and_vars = [(tf.clip_by_value(g, -3., 3.), v) for g, v in grads_and_vars]\n",
    "train = opt.apply_gradients(clipped_grads_and_vars)\n",
    "\n",
    "sess = tf.Session()\n",
    "init = tf.initialize_all_variables()\n",
    "sess.run(init)\n",
    "\n",
    "for step in range(200):\n",
    "    sess.run(train)\n",
    "    if step % 10 == 0:\n",
    "        print(step, sess.run(x1), sess.run(x2), sess.run(y))\n",
    "#\n",
    "#"
   ]
  },
  {
   "cell_type": "markdown",
   "metadata": {},
   "source": [
    "# Example: Minimizing x'Ax + b'x + c\n",
    "\n",
    "Defining variables and the loss function"
   ]
  },
  {
   "cell_type": "code",
   "execution_count": null,
   "metadata": {},
   "outputs": [],
   "source": [
    "x = tf.placeholder(tf.float32, shape=[1, 2], name='input')\n",
    "A = tf.get_variable('A', dtype=tf.float32, initializer=[[2., 1], [3, 4]], trainable=False)\n",
    "b = tf.get_variable('b', dtype=tf.float32, initializer=[[1., 1]], trainable=False)\n",
    "c = tf.get_variable('c', dtype=tf.float32, initializer=[42.], trainable=False)\n",
    "\n",
    "y = tf.matmul(x, tf.matmul(A, x, transpose_b=True)) + tf.matmul(x, b, transpose_b=True) + c"
   ]
  },
  {
   "cell_type": "markdown",
   "metadata": {},
   "source": [
    "Computing the gradient:"
   ]
  },
  {
   "cell_type": "code",
   "execution_count": null,
   "metadata": {},
   "outputs": [],
   "source": [
    "# Constructs symbolic partial derivatives of sum of ys w.r.t. x in xs.\n",
    "\n",
    "dx = tf.gradients(y, x)[0]\n",
    "# If I had more variables, I could compute the partial derivatives for them as well\n",
    "# ddw, ddb = tf.gradients(y, [W, b])\n",
    "\n",
    "# Assigning input values\n",
    "val = np.array([[1, 1]], dtype=np.float32)\n",
    "\n",
    "with tf.Session() as sess:\n",
    "    sess.run(tf.global_variables_initializer())\n",
    "    print (\"residual = \", sess.run(y, {x: val}), \" gradient = \", sess.run(dx, {x: val}))\n",
    "\n",
    "    saver = tf.train.Saver(tf.global_variables())\n",
    "    saver.save(sess, '/tmp/my_problem/my_problem')\n",
    "    tf.train.write_graph(sess.graph, '/tmp/my_problem', \"graph.pb\", as_text=False)"
   ]
  },
  {
   "cell_type": "code",
   "execution_count": 14,
   "metadata": {},
   "outputs": [
    {
     "name": "stdout",
     "output_type": "stream",
     "text": [
      "residual =  400.0  gradient =  [-800.  400.]\n"
     ]
    }
   ],
   "source": [
    "x = tf.Variable([1., 3.], tf.float32)\n",
    "y = tf.add(tf.pow(tf.subtract(1.0, x[0]), 2.0), \n",
    "           tf.multiply(100.0, tf.pow(tf.subtract(x[1],tf.pow(x[0], 2.0)), 2.0)), 'y')\n",
    "\n",
    "dx = tf.gradients(y, x)[0]\n",
    "val = np.array([1, 3], dtype=np.float32)\n",
    "\n",
    "with tf.Session() as sess:\n",
    "    sess.run(tf.global_variables_initializer())\n",
    "    print (sess.run(y, {x: val}), sess.run(dx, {x: val}))"
   ]
  },
  {
   "cell_type": "code",
   "execution_count": null,
   "metadata": {},
   "outputs": [],
   "source": [
    "dx = tf.gradients(y, x1)[0]"
   ]
  },
  {
   "cell_type": "code",
   "execution_count": null,
   "metadata": {},
   "outputs": [],
   "source": [
    "print(dx)"
   ]
  },
  {
   "cell_type": "code",
   "execution_count": null,
   "metadata": {},
   "outputs": [],
   "source": [
    "\n",
    "with tf.Session() as sess:\n",
    "    sess.run(tf.global_variables_initializer())\n",
    "    print (\"residual = \", sess.run(y, {x1: val}), \" gradient = \", sess.run(dx, {x1: val}))\n",
    "\n",
    "    saver = tf.train.Saver(tf.global_variables())\n",
    "    saver.save(sess, '/tmp/my_problem/my_problem')\n",
    "    tf.train.write_graph(sess.graph, '/tmp/my_problem', \"graph.pb\", as_text=False)"
   ]
  },
  {
   "cell_type": "code",
   "execution_count": null,
   "metadata": {},
   "outputs": [],
   "source": []
  }
 ],
 "metadata": {
  "kernelspec": {
   "display_name": "Python 3",
   "language": "python",
   "name": "python3"
  },
  "language_info": {
   "codemirror_mode": {
    "name": "ipython",
    "version": 3
   },
   "file_extension": ".py",
   "mimetype": "text/x-python",
   "name": "python",
   "nbconvert_exporter": "python",
   "pygments_lexer": "ipython3",
   "version": "3.6.6"
  }
 },
 "nbformat": 4,
 "nbformat_minor": 2
}
